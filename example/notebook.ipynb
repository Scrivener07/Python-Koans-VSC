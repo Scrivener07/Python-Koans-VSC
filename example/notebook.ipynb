{
    "metadata": {
        "kernelspec": {
            "name": "python3",
            "display_name": "Python 3"
        },
        "language_info": {
            "name": "python"
        }
    },
    "cells": [
        {
            "cell_type": "markdown",
            "source": [
                "# Your Custom Renderer"
            ],
            "metadata": {
                "deletable": false
            }
        },
        {
            "cell_type": "markdown",
            "source": [
                "This is a Jupyter notebook file.",
                "Down below, we've created output as if a cell was executed and generated `x-application/custom-json-output` output.",
                "You can use the **View: Reopen Editor With...** command to view the JSON source of this notebook and change the output data.",
                "Or, you can installed the Python extension (for example) and replace the code cell below with one that generates the output you expect"
            ],
            "metadata": {
                "deletable": false
            }
        },
        {
            "cell_type": "code",
            "execution_count": 1,
            "metadata": {
                "deletable": false
            },
            "source": [
                "# <code that creates x-application/custom-json-output output>",
                "print(\"Hello, World!\")"
            ],
            "outputs": [
                {
                    "output_type": "execute_result",
                    "data": {
                        "x-application/custom-json-output": "{\"hello\":\"world!\"}"
                    },
                    "metadata": {
                        "deletable": false
                    },
                    "execution_count": 1
                }
            ]
        }
    ]
}
